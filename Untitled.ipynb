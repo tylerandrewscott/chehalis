{
 "cells": [
  {
   "cell_type": "code",
   "execution_count": 1054,
   "id": "94aa1af8-1975-4069-829a-2e128372f422",
   "metadata": {},
   "outputs": [
    {
     "name": "stdout",
     "output_type": "stream",
     "text": [
      "Error parsing cleaned JSON in file data/intermediate_products/json_forms/A249-19-L190059-000.json: Expecting ':' delimiter: line 14 column 18 (char 321)\n",
      "Error parsing cleaned JSON in file data/intermediate_products/json_forms/D25-5-1976-005.json: Expecting property name enclosed in double quotes: line 21 column 32 (char 575)\n",
      "Error parsing cleaned JSON in file data/intermediate_products/json_forms/D25-7-9973-000.json: pop from empty list\n",
      "Error parsing cleaned JSON in file data/intermediate_products/json_forms/98847-000.json: Expecting ',' delimiter: line 36 column 17 (char 1097)\n",
      "Error parsing cleaned JSON in file data/intermediate_products/json_forms/98846-000.json: Expecting ',' delimiter: line 88 column 3 (char 2504)\n",
      "Error parsing cleaned JSON in file data/intermediate_products/json_forms/A249-19-ON190063-000.json: Expecting ':' delimiter: line 84 column 26 (char 1511)\n",
      "Error parsing cleaned JSON in file data/intermediate_products/json_forms/D120-6-008-011.json: Expecting property name enclosed in double quotes: line 13 column 31 (char 374)\n",
      "Error parsing cleaned JSON in file data/intermediate_products/json_forms/98527-000.json: Expecting ':' delimiter: line 26 column 20 (char 776)\n",
      "Error parsing cleaned JSON in file data/intermediate_products/json_forms/99006-000.json: Expecting ',' delimiter: line 42 column 23 (char 1978)\n",
      "Error parsing cleaned JSON in file data/intermediate_products/json_forms/A249-19-ON190041-000.json: string index out of range\n",
      "Error parsing cleaned JSON in file data/intermediate_products/json_forms/0000000000000000000051226-000.json: string index out of range\n",
      "Error parsing cleaned JSON in file data/intermediate_products/json_forms/F1-9-FSSA-DDRS-391-000.json: Expecting property name enclosed in double quotes: line 72 column 26 (char 2673)\n",
      "Error parsing cleaned JSON in file data/intermediate_products/json_forms/99464-000.json: string index out of range\n",
      "Error parsing cleaned JSON in file data/intermediate_products/json_forms/98170-000.json: Expecting value: line 73 column 19 (char 2511)\n",
      "Error parsing cleaned JSON in file data/intermediate_products/json_forms/0000000000000000000042018-000.json: string index out of range\n",
      "Error parsing cleaned JSON in file data/intermediate_products/json_forms/98910-000.json: Expecting ',' delimiter: line 102 column 7 (char 3093)\n",
      "Error parsing cleaned JSON in file data/intermediate_products/json_forms/0000000000000000000040802-002.json: Expecting ',' delimiter: line 24 column 19 (char 621)\n",
      "Error parsing cleaned JSON in file data/intermediate_products/json_forms/A249-19-ON190106-000.json: Expecting value: line 29 column 48 (char 1112)\n",
      "Error parsing cleaned JSON in file data/intermediate_products/json_forms/A56-4-14-07-005.json: Expecting value: line 46 column 16 (char 1352)\n",
      "Error parsing cleaned JSON in file data/intermediate_products/json_forms/99816-000.json: string index out of range\n",
      "Error parsing cleaned JSON in file data/intermediate_products/json_forms/A249-17-L160145-001.json: Expecting value: line 61 column 16 (char 1757)\n",
      "Error parsing cleaned JSON in file data/intermediate_products/json_forms/98862-000.json: Expecting ':' delimiter: line 84 column 52 (char 2936)\n",
      "Error parsing cleaned JSON in file data/intermediate_products/json_forms/A249-17-ON170029-003.json: Expecting ':' delimiter: line 27 column 27 (char 864)\n",
      "Error parsing cleaned JSON in file data/intermediate_products/json_forms/9854-000.json: Expecting ',' delimiter: line 12 column 27 (char 317)\n",
      "Error parsing cleaned JSON in file data/intermediate_products/json_forms/EE2-9-15D31074D-000.json: Expecting ',' delimiter: line 38 column 3 (char 1015)\n",
      "Error parsing cleaned JSON in file data/intermediate_products/json_forms/A249-20-UT190097-000.json: Expecting ':' delimiter: line 25 column 24 (char 652)\n",
      "Error parsing cleaned JSON in file data/intermediate_products/json_forms/99706-000.json: Expecting ',' delimiter: line 84 column 62 (char 2875)\n",
      "Error parsing cleaned JSON in file data/intermediate_products/json_forms/99469-000.json: Expecting value: line 5 column 39 (char 131)\n",
      "Error parsing cleaned JSON in file data/intermediate_products/json_forms/A249-19-L190076-000.json: Expecting ':' delimiter: line 73 column 53 (char 2411)\n",
      "Error parsing cleaned JSON in file data/intermediate_products/json_forms/0000000000000000000049216-000.json: string index out of range\n",
      "Error parsing cleaned JSON in file data/intermediate_products/json_forms/0000000000000000000050729-000.json: Expecting ':' delimiter: line 5 column 12 (char 157)\n",
      "Error parsing cleaned JSON in file data/intermediate_products/json_forms/99664-000.json: pop from empty list\n",
      "Error parsing cleaned JSON in file data/intermediate_products/json_forms/98750-000.json: Expecting property name enclosed in double quotes: line 79 column 31 (char 2051)\n",
      "Error parsing cleaned JSON in file data/intermediate_products/json_forms/A249-20-L190138-000.json: Expecting ',' delimiter: line 69 column 3 (char 2388)\n",
      "Error parsing cleaned JSON in file data/intermediate_products/json_forms/A249-19-L190085-000.json: Expecting ':' delimiter: line 50 column 64 (char 1549)\n",
      "Error parsing cleaned JSON in file data/intermediate_products/json_forms/A249-20-UT200045-000.json: Expecting ':' delimiter: line 44 column 23 (char 1367)\n",
      "Error parsing cleaned JSON in file data/intermediate_products/json_forms/99452-000.json: Expecting property name enclosed in double quotes: line 75 column 24 (char 2138)\n",
      "Error parsing cleaned JSON in file data/intermediate_products/json_forms/99634-000.json: Expecting ',' delimiter: line 30 column 19 (char 826)\n",
      "Error parsing cleaned JSON in file data/intermediate_products/json_forms/99699-000.json: pop from empty list\n",
      "Error parsing cleaned JSON in file data/intermediate_products/json_forms/A249-20-UT190093-000.json: Expecting ',' delimiter: line 21 column 24 (char 767)\n",
      "Error parsing cleaned JSON in file data/intermediate_products/json_forms/A249-19-L180153-000.json: Invalid control character at: line 16 column 22 (char 427)\n",
      "Error parsing cleaned JSON in file data/intermediate_products/json_forms/98867-000.json: Expecting ':' delimiter: line 28 column 3 (char 782)\n",
      "Error parsing cleaned JSON in file data/intermediate_products/json_forms/A249-19-L190078-000.json: Invalid control character at: line 70 column 24 (char 2316)\n",
      "Error parsing cleaned JSON in file data/intermediate_products/json_forms/A249-19-ON190017-000.json: pop from empty list\n",
      "Error parsing cleaned JSON in file data/intermediate_products/json_forms/99906-000.json: Invalid \\escape: line 79 column 27 (char 2490)\n",
      "Error parsing cleaned JSON in file data/intermediate_products/json_forms/99392-000.json: pop from empty list\n",
      "Error parsing cleaned JSON in file data/intermediate_products/json_forms/A249-20-RR200003-000.json: pop from empty list\n",
      "Error parsing cleaned JSON in file data/intermediate_products/json_forms/98235-000.json: pop from empty list\n",
      "Error parsing cleaned JSON in file data/intermediate_products/json_forms/98687-000.json: Expecting ',' delimiter: line 73 column 68 (char 2059)\n",
      "Error parsing cleaned JSON in file data/intermediate_products/json_forms/D3-20-12523-001.json: string index out of range\n",
      "Error parsing cleaned JSON in file data/intermediate_products/json_forms/99012-000.json: pop from empty list\n",
      "Error parsing cleaned JSON in file data/intermediate_products/json_forms/A249-20-L190136-000.json: Invalid control character at: line 104 column 140 (char 3144)\n",
      "Error parsing cleaned JSON in file data/intermediate_products/json_forms/99661-000.json: Invalid control character at: line 83 column 50 (char 2704)\n",
      "Error parsing cleaned JSON in file data/intermediate_products/json_forms/A249-20-L190141-000.json: Invalid control character at: line 27 column 62 (char 826)\n",
      "Error parsing cleaned JSON in file data/intermediate_products/json_forms/0000000000000000000043466-000.json: string index out of range\n",
      "Error parsing cleaned JSON in file data/intermediate_products/json_forms/99756-000.json: Expecting property name enclosed in double quotes: line 22 column 22 (char 617)\n",
      "Error parsing cleaned JSON in file data/intermediate_products/json_forms/0000000000000000000040620-003.json: Expecting ':' delimiter: line 3 column 16 (char 52)\n",
      "Error parsing cleaned JSON in file data/intermediate_products/json_forms/98834-000.json: Invalid control character at: line 77 column 84 (char 2134)\n",
      "Error parsing cleaned JSON in file data/intermediate_products/json_forms/A249-20-L190196-000.json: Expecting ':' delimiter: line 30 column 36 (char 1186)\n",
      "Error parsing cleaned JSON in file data/intermediate_products/json_forms/A249-19-ON180254-000.json: Expecting ':' delimiter: line 82 column 8 (char 2146)\n",
      "Error parsing cleaned JSON in file data/intermediate_products/json_forms/A249-20-L200018-000.json: Expecting ':' delimiter: line 28 column 30 (char 937)\n",
      "Error parsing cleaned JSON in file data/intermediate_products/json_forms/A249-20-L200019-000.json: string index out of range\n",
      "Error parsing cleaned JSON in file data/intermediate_products/json_forms/A249-20-L190147-000.json: string index out of range\n",
      "Error parsing cleaned JSON in file data/intermediate_products/json_forms/A249-20-L190146-000.json: Expecting ':' delimiter: line 74 column 19 (char 2635)\n",
      "Error parsing cleaned JSON in file data/intermediate_products/json_forms/F1-10-FSSA-DDRS-602-000.json: Expecting ',' delimiter: line 64 column 26 (char 2172)\n",
      "Error parsing cleaned JSON in file data/intermediate_products/json_forms/A249-18-ON180039-001.json: Expecting ',' delimiter: line 100 column 3 (char 2989)\n",
      "Error parsing cleaned JSON in file data/intermediate_products/json_forms/98331-000.json: Invalid control character at: line 79 column 25 (char 2150)\n",
      "Error parsing cleaned JSON in file data/intermediate_products/json_forms/98963-000.json: Expecting ':' delimiter: line 95 column 29 (char 3002)\n",
      "Error parsing cleaned JSON in file data/intermediate_products/json_forms/9840-001.json: pop from empty list\n",
      "Error parsing cleaned JSON in file data/intermediate_products/json_forms/0000000000000000000033913-003.json: Expecting value: line 2 column 16 (char 17)\n",
      "Error parsing cleaned JSON in file data/intermediate_products/json_forms/98529-000.json: Invalid \\escape: line 84 column 42 (char 2059)\n",
      "Error parsing cleaned JSON in file data/intermediate_products/json_forms/D120-6-008-013.json: Extra data: line 88 column 1 (char 2424)\n",
      "Error parsing cleaned JSON in file data/intermediate_products/json_forms/9869-000.json: pop from empty list\n",
      "Error parsing cleaned JSON in file data/intermediate_products/json_forms/99638-000.json: Expecting ',' delimiter: line 98 column 5 (char 3446)\n",
      "Error parsing cleaned JSON in file data/intermediate_products/json_forms/99428-000.json: pop from empty list\n",
      "Error parsing cleaned JSON in file data/intermediate_products/json_forms/D3-21-12609-001.json: Expecting ':' delimiter: line 44 column 19 (char 1248)\n",
      "Error parsing cleaned JSON in file data/intermediate_products/json_forms/A56-0-10-17-008.json: Expecting ',' delimiter: line 9 column 22 (char 297)\n",
      "Error parsing cleaned JSON in file data/intermediate_products/json_forms/98555-000.json: Expecting ':' delimiter: line 44 column 50 (char 1502)\n",
      "Error parsing cleaned JSON in file data/intermediate_products/json_forms/98267-000.json: Invalid control character at: line 43 column 100 (char 1989)\n",
      "Error parsing cleaned JSON in file data/intermediate_products/json_forms/E16-21-40777-000.json: Expecting ':' delimiter: line 8 column 23 (char 221)\n",
      "Error parsing cleaned JSON in file data/intermediate_products/json_forms/0000000000000000000051044-000.json: string index out of range\n"
     ]
    }
   ],
   "source": [
    "from partial_json_parser import loads\n",
    "import os\n",
    "from pathlib import Path\n",
    "\n",
    "import re\n",
    "\n",
    "def clean_json_string(json_str):\n",
    "    pattern = r'\\{\\s*((?:\"[^\"]+\"\\s*,\\s*)*\"[^\"]+\"\\s*)\\}'\n",
    "    \n",
    "    def join_parts(match):\n",
    "        content = match.group(1)\n",
    "        parts = [p.strip().strip('\"') for p in content.split(',')]\n",
    "        return f'\"{\" \".join(parts)}\"'\n",
    "    \n",
    "    cleaned = re.sub(pattern, join_parts, json_str)\n",
    "    return cleaned\n",
    "\n",
    "def remove_parentheses(json_str):\n",
    "    # Match content within quotes, then remove all parentheses within\n",
    "    pattern = r'\"[^\"]*\"'\n",
    "    \n",
    "    def remove_parens(match):\n",
    "        # Get the matched quoted string and remove parentheses\n",
    "        text = match.group(0)\n",
    "        # Remove all parentheses while preserving the outer quotes\n",
    "        return text[0] + text[1:-1].replace('(', '').replace(')', '') + text[-1]\n",
    "    \n",
    "    cleaned = re.sub(pattern, remove_parens, json_str)\n",
    "    return cleaned\n",
    "    \n",
    "#address_pattern = re.compile(r'(\\{[\\s]*\"[^\"]+\"),[\\s]*(\"[^\"]+\"[\\s]*\\})')\n",
    "string_in_string_pattern = re.compile(r'(\\\"[^\\:\\{\\}\\,]+)(\\\")([^\\:\\{\\}\\,]+)(\\\")([^\\:\\{\\}\\,]+\\\")')\n",
    "import re\n",
    "json_dir = Path('data/intermediate_products/json_forms')\n",
    "json_files = list(json_dir.glob('*.json'))\n",
    "parsed_jsons = []\n",
    "for json_file in json_files:\n",
    "    with open(json_file) as f:\n",
    "        try:\n",
    "            js = loads(f.read())\n",
    "            if 'error' in js:\n",
    "                continue\n",
    "            else:\n",
    "                ds = js['choices'][0]['message']['content']\n",
    "                temp = re.sub('^[^\\{]+','',ds)\n",
    "                temp = re.sub('[^\\}]+$','',temp)\n",
    "                temp = re.sub('\\,\\s{1,}\\}','}',temp)\n",
    "                temp = re.sub('\\\"\\s{0,}\\+\\s{0,}\\\"','',temp)\n",
    "                temp = re.sub(':\\s\"',':\"',temp)\n",
    "                temp = re.sub(':\\s+{',':{',temp)\n",
    "                temp = re.sub('\\\\\\\\\\\"','',temp)\n",
    "                if any(re.findall(string_in_string_pattern,temp)):\n",
    "                    temp = re.sub(string_in_string_pattern,'\\\\1\\\\3\\\\5',temp)\n",
    "                temp = clean_json_string(temp)\n",
    "                temp = remove_parentheses(temp)\n",
    "                temp = re.sub('(\\\"State of Indiana Registered with)\":\\n\\s+\\\"(Secretary)','\\\\1 \\\\2',temp)\n",
    "                temp = re.sub('\\s\\+[^\\,]+','',temp)\n",
    "                #temp = re.sub('\\#\\:\\\"','#\"',temp)\n",
    "                #temp = re.sub('([a-z]\\#)\\:','\\\\1\":',temp)\n",
    "                try:\n",
    "                    parsed_json = loads(temp)\n",
    "                    parsed_jsons.append(parsed_json)\n",
    "                except Exception as e:\n",
    "                    print(f\"Error parsing cleaned JSON in file {json_file}: {str(e)}\")\n",
    "        except Exception as e:\n",
    "            print(f\"Error parsing file {json_file}: {str(e)}\")\n"
   ]
  },
  {
   "cell_type": "code",
   "execution_count": 1056,
   "id": "ad1844f5-b283-433d-8bf9-e59ca33bd35f",
   "metadata": {},
   "outputs": [
    {
     "data": {
      "text/plain": [
       "0.9618320610687023"
      ]
     },
     "execution_count": 1056,
     "metadata": {},
     "output_type": "execute_result"
    }
   ],
   "source": [
    "len(parsed_jsons) / len(json_files)"
   ]
  },
  {
   "cell_type": "code",
   "execution_count": 1078,
   "id": "05ab7a48-9ebc-4682-b383-81734fb8dd58",
   "metadata": {},
   "outputs": [
    {
     "data": {
      "text/plain": [
       "10"
      ]
     },
     "execution_count": 1078,
     "metadata": {},
     "output_type": "execute_result"
    }
   ],
   "source": [
    "json_dir = Path('data/intermediate_products/json_contracts/')\n",
    "json_files = list(json_dir.glob('*.json'))\n",
    "len(json_files)"
   ]
  }
 ],
 "metadata": {
  "kernelspec": {
   "display_name": "Python 3 (ipykernel)",
   "language": "python",
   "name": "python3"
  },
  "language_info": {
   "codemirror_mode": {
    "name": "ipython",
    "version": 3
   },
   "file_extension": ".py",
   "mimetype": "text/x-python",
   "name": "python",
   "nbconvert_exporter": "python",
   "pygments_lexer": "ipython3",
   "version": "3.11.7"
  }
 },
 "nbformat": 4,
 "nbformat_minor": 5
}
