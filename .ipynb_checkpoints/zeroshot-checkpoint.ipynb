{
 "cells": [
  {
   "cell_type": "code",
   "execution_count": 3,
   "id": "5798374c-7ca9-435a-8902-27d859f889d6",
   "metadata": {},
   "outputs": [
    {
     "name": "stdout",
     "output_type": "stream",
     "text": [
      "/Users/admin-tascott/Documents/GitHub/chehalis\n"
     ]
    }
   ],
   "source": []
  },
  {
   "cell_type": "code",
   "execution_count": 1,
   "id": "e8178717-d0ad-4a83-818a-a1e4b24dabb9",
   "metadata": {},
   "outputs": [
    {
     "ename": "FileNotFoundError",
     "evalue": "[Errno 2] No such file or directory: '../../data/raw/_firstjpeg/'",
     "output_type": "error",
     "traceback": [
      "\u001b[0;31m---------------------------------------------------------------------------\u001b[0m",
      "\u001b[0;31mFileNotFoundError\u001b[0m                         Traceback (most recent call last)",
      "Cell \u001b[0;32mIn[1], line 12\u001b[0m\n\u001b[1;32m     10\u001b[0m \u001b[38;5;66;03m# Path to your image\u001b[39;00m\n\u001b[1;32m     11\u001b[0m image_loc \u001b[38;5;241m=\u001b[39m \u001b[38;5;124m\"\u001b[39m\u001b[38;5;124m../../data/raw/_firstjpeg/\u001b[39m\u001b[38;5;124m\"\u001b[39m\n\u001b[0;32m---> 12\u001b[0m image_files \u001b[38;5;241m=\u001b[39m os\u001b[38;5;241m.\u001b[39mlistdir(image_loc)\n\u001b[1;32m     14\u001b[0m preds \u001b[38;5;241m=\u001b[39m pd\u001b[38;5;241m.\u001b[39mDataFrame()\n\u001b[1;32m     15\u001b[0m \u001b[38;5;28;01mfor\u001b[39;00m i \u001b[38;5;129;01min\u001b[39;00m image_files:\n",
      "\u001b[0;31mFileNotFoundError\u001b[0m: [Errno 2] No such file or directory: '../../data/raw/_firstjpeg/'"
     ]
    }
   ],
   "source": [
    "from transformers import pipeline\n",
    "\n",
    "checkpoint = \"openai/clip-vit-large-patch14\"\n",
    "detector = pipeline(model=checkpoint, task=\"zero-shot-image-classification\")\n",
    "import os\n",
    "from PIL import Image\n",
    "import requests\n",
    "import pandas as pd\n",
    "\n",
    "# Path to your image\n",
    "image_loc = \"../../data/raw/_firstjpeg/\"\n",
    "image_files = os.listdir(image_loc)\n",
    "\n",
    "preds = pd.DataFrame()\n",
    "for i in image_files:\n",
    "    image = Image.open('{}/{}'.format(image_loc,i))\n",
    "    predictions = detector(image, candidate_labels=[\"multi-column data form with entry boxes\",\"prose in single column layout \"])\n",
    "    df = pd.DataFrame({'score':[l['score'] for l in predictions],'label':[l['label'] for l in predictions]})\n",
    "    df['file'] = i\n",
    "    dfp = df.pivot(index = 'file',values = 'score',columns = 'label')\n",
    "    preds = pd.concat([preds,dfp])\n",
    "    #pd.DataFrame({predictions[0]['label']:predictions[0]['score']},index = [i]) \n",
    "#!mkdir ../../data/intermediate_products\n",
    "#preds.to_csv('../../data/intermediate_products/zeroshot_form_contract.csv')"
   ]
  }
 ],
 "metadata": {
  "kernelspec": {
   "display_name": "Python 3 (ipykernel)",
   "language": "python",
   "name": "python3"
  },
  "language_info": {
   "codemirror_mode": {
    "name": "ipython",
    "version": 3
   },
   "file_extension": ".py",
   "mimetype": "text/x-python",
   "name": "python",
   "nbconvert_exporter": "python",
   "pygments_lexer": "ipython3",
   "version": "3.12.4"
  }
 },
 "nbformat": 4,
 "nbformat_minor": 5
}
