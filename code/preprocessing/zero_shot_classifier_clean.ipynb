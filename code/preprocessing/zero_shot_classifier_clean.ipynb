{
 "cells": [
  {
   "cell_type": "markdown",
   "metadata": {},
   "source": [
    "# Zero-Shot Administrative Form Classifier\n",
    "\n",
    "This notebook implements a zero-shot classifier that identifies administrative forms by comparing page embeddings to reference examples.\n",
    "\n",
    "## Key Features:\n",
    "- **No training required** - Works immediately with example forms\n",
    "- **Fast inference** - Process 190k documents efficiently  \n",
    "- **Parallel processing** - Utilizes multiple CPU cores\n",
    "- **Easy to update** - Add new examples without retraining\n",
    "- **Interpretable** - Simple similarity threshold"
   ]
  },
  {
   "cell_type": "markdown",
   "metadata": {},
   "source": [
    "## 1. Imports and Setup"
   ]
  },
  {
   "cell_type": "code",
   "execution_count": null,
   "metadata": {},
   "outputs": [],
   "source": "import os\n# Set tokenizers parallelism to false to avoid fork warning\nos.environ[\"TOKENIZERS_PARALLELISM\"] = \"false\"\n\nimport torch\nimport numpy as np\nimport pandas as pd\nfrom pathlib import Path\nfrom PIL import Image\nimport fitz  # PyMuPDF - replaces pdf2image/poppler\nimport io\nfrom tqdm import tqdm\nimport json\nimport pickle\nfrom typing import List, Dict, Tuple, Optional\nfrom sklearn.metrics.pairwise import cosine_similarity\nimport matplotlib.pyplot as plt\nimport seaborn as sns\nfrom concurrent.futures import ThreadPoolExecutor, as_completed\nimport time\n\n# For different model options\nfrom transformers import (\n    DonutProcessor, \n    VisionEncoderDecoderModel,\n    CLIPProcessor, \n    CLIPModel,\n    AutoImageProcessor, \n    AutoModel\n)\n\n# Set device\ndevice = torch.device('cuda' if torch.cuda.is_available() else 'cpu')\nprint(f\"Using device: {device}\")\nprint(f\"Available CPU cores: {os.cpu_count()}\")\nprint(\"✓ Using PyMuPDF (no poppler dependency required)\")"
  },
  {
   "cell_type": "markdown",
   "metadata": {},
   "source": [
    "## 2. Configuration"
   ]
  },
  {
   "cell_type": "code",
   "execution_count": 5,
   "metadata": {},
   "outputs": [],
   "source": [
    "# Paths\n",
    "BASE_PATH = Path('/Users/admin-tascott/Documents/GitHub/chehalis')\n",
    "EXAMPLE_FORMS_PATH = BASE_PATH / 'data' / 'raw' / '_exampleforms'\n",
    "NON_EXAMPLES_PATH = BASE_PATH / 'data' / 'raw' / '_nonexamples'\n",
    "\n",
    "# Model selection\n",
    "MODEL_TYPE = \"clip\"  # Options: \"donut\", \"clip\", \"dinov2\"\n",
    "\n",
    "# Processing parameters\n",
    "IMAGE_DPI = 150  # Resolution for PDF conversion\n",
    "BATCH_SIZE = 8   # Batch size for embedding extraction\n",
    "SIMILARITY_THRESHOLD = 0.85  # Initial threshold (will be tuned)\n",
    "\n",
    "# Parallel processing parameters\n",
    "USE_MULTIPROCESSING = True  # Enable multiprocessing\n",
    "N_WORKERS = min(8, os.cpu_count() - 1)  # Leave one core free\n",
    "\n",
    "# Output paths\n",
    "EMBEDDINGS_CACHE_PATH = BASE_PATH / 'code' / 'preprocessing' / 'cached_embeddings'\n",
    "EMBEDDINGS_CACHE_PATH.mkdir(exist_ok=True)"
   ]
  },
  {
   "cell_type": "markdown",
   "metadata": {},
   "source": [
    "## 3. Model Loading"
   ]
  },
  {
   "cell_type": "code",
   "execution_count": 7,
   "metadata": {},
   "outputs": [
    {
     "name": "stdout",
     "output_type": "stream",
     "text": [
      "Loading CLIP model\n"
     ]
    },
    {
     "name": "stderr",
     "output_type": "stream",
     "text": [
      "Using a slow image processor as `use_fast` is unset and a slow processor was saved with this model. `use_fast=True` will be the default behavior in v4.52, even if the model was saved with a slow processor. This will result in minor differences in outputs. You'll still be able to use a slow processor with `use_fast=False`.\n"
     ]
    },
    {
     "name": "stdout",
     "output_type": "stream",
     "text": [
      "Model loaded successfully\n"
     ]
    }
   ],
   "source": [
    "def load_model(model_type: str):\n",
    "    \"\"\"Load the specified model for embedding extraction\"\"\"\n",
    "    \n",
    "    if model_type == \"donut\":\n",
    "        print(\"Loading Donut model\")\n",
    "        model = VisionEncoderDecoderModel.from_pretrained(\"naver-clova-ix/donut-base\")\n",
    "        processor = DonutProcessor.from_pretrained(\"naver-clova-ix/donut-base\")\n",
    "        return model.encoder.to(device), processor\n",
    "    \n",
    "    elif model_type == \"clip\":\n",
    "        print(\"Loading CLIP model\")\n",
    "        model = CLIPModel.from_pretrained(\"openai/clip-vit-base-patch32\")\n",
    "        processor = CLIPProcessor.from_pretrained(\"openai/clip-vit-base-patch32\")\n",
    "        return model.vision_model.to(device), processor\n",
    "    \n",
    "    elif model_type == \"dinov2\":\n",
    "        print(\"Loading DINOv2 model\")\n",
    "        processor = AutoImageProcessor.from_pretrained('facebook/dinov2-base')\n",
    "        model = AutoModel.from_pretrained('facebook/dinov2-base')\n",
    "        return model.to(device), processor\n",
    "    \n",
    "    else:\n",
    "        raise ValueError(f\"Unknown model type: {model_type}\")\n",
    "\n",
    "# Load the selected model\n",
    "model, processor = load_model(MODEL_TYPE)\n",
    "model.eval()  # Set to evaluation mode\n",
    "print(f\"Model loaded successfully\")"
   ]
  },
  {
   "cell_type": "markdown",
   "metadata": {},
   "source": [
    "## 4. PDF Processing Functions"
   ]
  },
  {
   "cell_type": "code",
   "execution_count": null,
   "metadata": {},
   "outputs": [],
   "source": "def pdf_to_images(pdf_path: Path, dpi: int = IMAGE_DPI) -> List[Image.Image]:\n    \"\"\"Convert PDF to list of PIL Images using PyMuPDF (no poppler needed)\"\"\"\n    try:\n        doc = fitz.open(pdf_path)\n        images = []\n        \n        for page_num in range(doc.page_count):\n            page = doc[page_num]\n            # Convert to pixmap with specified DPI\n            mat = fitz.Matrix(dpi/72, dpi/72)  # 72 is default DPI\n            pix = page.get_pixmap(matrix=mat)\n            # Convert to PIL Image\n            img_data = pix.tobytes(\"ppm\")\n            img = Image.open(io.BytesIO(img_data))\n            images.append(img)\n        \n        doc.close()\n        return images\n    except Exception as e:\n        print(f\"Error converting {pdf_path}: {e}\")\n        return []\n\ndef preprocess_image(image: Image.Image, model_type: str) -> Image.Image:\n    \"\"\"Preprocess image based on model requirements\"\"\"\n    if image.mode != 'RGB':\n        image = image.convert('RGB')\n    \n    if model_type == \"donut\":\n        # Donut expects larger images\n        image.thumbnail((1280, 960), Image.Resampling.LANCZOS)\n    else:\n        # CLIP and DINOv2 work with smaller images\n        image.thumbnail((224, 224), Image.Resampling.LANCZOS)\n    \n    return image\n\nprint(\"✓ PDF processing functions defined (using PyMuPDF)\")"
  },
  {
   "cell_type": "markdown",
   "metadata": {},
   "source": [
    "## 5. Embedding Extraction"
   ]
  },
  {
   "cell_type": "code",
   "execution_count": 11,
   "metadata": {},
   "outputs": [],
   "source": [
    "@torch.no_grad()\n",
    "def extract_embeddings(images: List[Image.Image], model, processor, model_type: str, \n",
    "                      batch_size: int = BATCH_SIZE) -> np.ndarray:\n",
    "    \"\"\"Extract embeddings for a list of images\"\"\"\n",
    "    embeddings = []\n",
    "    \n",
    "    for i in range(0, len(images), batch_size):\n",
    "        batch_images = images[i:i+batch_size]\n",
    "        \n",
    "        # Preprocess images\n",
    "        batch_images = [preprocess_image(img, model_type) for img in batch_images]\n",
    "        \n",
    "        # Process batch\n",
    "        if model_type in [\"donut\", \"clip\"]:\n",
    "            inputs = processor(images=batch_images, return_tensors=\"pt\").to(device)\n",
    "            outputs = model(**inputs)\n",
    "        else:  # dinov2\n",
    "            inputs = processor(images=batch_images, return_tensors=\"pt\").to(device)\n",
    "            outputs = model(**inputs)\n",
    "        \n",
    "        # Extract embeddings based on model type\n",
    "        if hasattr(outputs, 'pooler_output') and outputs.pooler_output is not None:\n",
    "            batch_embeddings = outputs.pooler_output\n",
    "        elif hasattr(outputs, 'last_hidden_state'):\n",
    "            # Mean pool the sequence dimension\n",
    "            batch_embeddings = outputs.last_hidden_state.mean(dim=1)\n",
    "        else:\n",
    "            batch_embeddings = outputs[0].mean(dim=1)  # Fallback\n",
    "        \n",
    "        embeddings.append(batch_embeddings.cpu().numpy())\n",
    "    \n",
    "    return np.vstack(embeddings)\n",
    "\n",
    "@torch.no_grad()\n",
    "def extract_embedding_single(image: Image.Image, model, processor, model_type: str) -> np.ndarray:\n",
    "    \"\"\"Extract embedding for a single image\"\"\"\n",
    "    image = preprocess_image(image, model_type)\n",
    "    \n",
    "    if model_type in [\"donut\", \"clip\"]:\n",
    "        inputs = processor(images=image, return_tensors=\"pt\").to(device)\n",
    "        outputs = model(**inputs)\n",
    "    else:  # dinov2\n",
    "        inputs = processor(images=image, return_tensors=\"pt\").to(device)\n",
    "        outputs = model(**inputs)\n",
    "    \n",
    "    # Extract embedding\n",
    "    if hasattr(outputs, 'pooler_output') and outputs.pooler_output is not None:\n",
    "        embedding = outputs.pooler_output\n",
    "    elif hasattr(outputs, 'last_hidden_state'):\n",
    "        embedding = outputs.last_hidden_state.mean(dim=1)\n",
    "    else:\n",
    "        embedding = outputs[0].mean(dim=1)\n",
    "    \n",
    "    return embedding.cpu().numpy()[0]"
   ]
  },
  {
   "cell_type": "markdown",
   "metadata": {},
   "source": [
    "## 6. Build Reference Embeddings"
   ]
  },
  {
   "cell_type": "code",
   "execution_count": null,
   "metadata": {},
   "outputs": [],
   "source": "# Check if cached embeddings exist\ncache_file = EMBEDDINGS_CACHE_PATH / f\"{MODEL_TYPE}_reference_embeddings.pkl\"\n\nif cache_file.exists():\n    print(f\"Loading cached reference embeddings from {cache_file}\")\n    with open(cache_file, 'rb') as f:\n        cache_data = pickle.load(f)\n        reference_embeddings = cache_data['embeddings']\n        reference_metadata = cache_data['metadata']\nelse:\n    print(\"Building reference embeddings from example forms...\")\n    reference_embeddings = []\n    reference_metadata = []\n    \n    pdf_files = list(EXAMPLE_FORMS_PATH.glob('*.pdf'))\n    print(f\"Processing {len(pdf_files)} example form PDFs\")\n    \n    for pdf_path in tqdm(pdf_files, desc=\"Processing example forms\"):\n        images = pdf_to_images(pdf_path)\n        \n        if images:\n            # Extract embeddings for all pages\n            embeddings = extract_embeddings(images, model, processor, MODEL_TYPE)\n            \n            # Store embeddings and metadata\n            for i, embedding in enumerate(embeddings):\n                reference_embeddings.append(embedding)\n                reference_metadata.append({\n                    'file_path': str(pdf_path),\n                    'filename': pdf_path.name,\n                    'page_num': i + 1,\n                    'total_pages': len(images)\n                })\n    \n    reference_embeddings = np.array(reference_embeddings)\n    \n    # Cache the embeddings\n    print(f\"Caching reference embeddings to {cache_file}\")\n    with open(cache_file, 'wb') as f:\n        pickle.dump({\n            'embeddings': reference_embeddings,\n            'metadata': reference_metadata,\n            'model_type': MODEL_TYPE\n        }, f)\n\n# Create reference prototype (average of all reference embeddings)\nreference_prototype = np.mean(reference_embeddings, axis=0)\n\nprint(f\"\\nReference set contains {len(reference_embeddings)} form pages\")\nprint(f\"Embedding dimension: {reference_embeddings.shape[1]}\")\nprint(f\"Reference prototype shape: {reference_prototype.shape}\")"
  },
  {
   "cell_type": "markdown",
   "metadata": {},
   "source": "## 7. Similarity Functions and Classification\n\ndef compute_similarity_to_prototype(embedding: np.ndarray, prototype: np.ndarray) -> float:\n    \"\"\"Compute cosine similarity between an embedding and the prototype\"\"\"\n    return cosine_similarity([embedding], [prototype])[0][0]\n\ndef compute_similarity_to_references(embedding: np.ndarray, \n                                   reference_embeddings: np.ndarray, \n                                   method: str = 'max') -> float:\n    \"\"\"Compute similarity to reference embeddings using specified method\"\"\"\n    similarities = cosine_similarity([embedding], reference_embeddings)[0]\n    if method == 'max':\n        return np.max(similarities)\n    elif method == 'mean':\n        return np.mean(similarities)\n    else:\n        raise ValueError(f\"Unknown method: {method}\")\n\ndef classify_pdf_zero_shot(pdf_path: Path, \n                          model, \n                          processor, \n                          model_type: str,\n                          reference_embeddings: np.ndarray,\n                          reference_prototype: np.ndarray,\n                          threshold: float = SIMILARITY_THRESHOLD,\n                          use_prototype: bool = True) -> Dict:\n    \"\"\"Classify a single PDF using zero-shot similarity matching\"\"\"\n    \n    result = {\n        'filename': pdf_path.name,\n        'contains_form': False,\n        'form_pages': [],\n        'page_scores': [],\n        'max_similarity': 0.0,\n        'total_pages': 0,\n        'error': None\n    }\n    \n    try:\n        # Convert PDF to images\n        images = pdf_to_images(pdf_path)\n        if not images:\n            result['error'] = \"Failed to convert PDF to images\"\n            return result\n        \n        result['total_pages'] = len(images)\n        \n        # Process each page\n        for page_num, image in enumerate(images, 1):\n            try:\n                # Extract embedding for this page\n                embedding = extract_embedding_single(image, model, processor, model_type)\n                \n                # Compute similarity\n                if use_prototype:\n                    similarity = compute_similarity_to_prototype(embedding, reference_prototype)\n                else:\n                    similarity = compute_similarity_to_references(embedding, reference_embeddings, method='max')\n                \n                # Store page score\n                result['page_scores'].append({\n                    'page': page_num,\n                    'similarity': float(similarity)\n                })\n                \n                # Check if this page contains a form\n                if similarity >= threshold:\n                    result['form_pages'].append(page_num)\n                \n                # Update max similarity\n                result['max_similarity'] = max(result['max_similarity'], similarity)\n                \n            except Exception as e:\n                print(f\"Error processing page {page_num} of {pdf_path.name}: {e}\")\n        \n        # Determine if document contains forms\n        result['contains_form'] = len(result['form_pages']) > 0\n        \n    except Exception as e:\n        result['error'] = str(e)\n        print(f\"Error processing {pdf_path.name}: {e}\")\n    \n    return result\n\nprint(\"✓ Similarity and classification functions defined\")"
  },
  {
   "cell_type": "code",
   "execution_count": null,
   "metadata": {},
   "outputs": [],
   "source": "## 8. Threshold Tuning\n\n# Set initial threshold\nOPTIMAL_THRESHOLD = SIMILARITY_THRESHOLD  # Start with the configured threshold\n\nprint(\"Testing on known examples to tune threshold...\")\n\npositive_scores = []\nnegative_scores = []\n\n# Test on subset of examples (already processed)\nprint(\"\\nComputing self-similarity for positive examples...\")\nfor i in range(min(50, len(reference_embeddings))):\n    # Leave-one-out similarity\n    embedding = reference_embeddings[i]\n    other_embeddings = np.delete(reference_embeddings, i, axis=0)\n    similarity = compute_similarity_to_references(embedding, other_embeddings, method='max')\n    positive_scores.append(similarity)\n\n# Test on non-examples\nprint(\"\\nTesting on non-examples...\")\nnon_example_files = list(NON_EXAMPLES_PATH.glob('*.pdf'))[:20]  # Test subset\n\nfor pdf_path in tqdm(non_example_files, desc=\"Processing non-examples\"):\n    result = classify_pdf_zero_shot(\n        pdf_path, model, processor, MODEL_TYPE,\n        reference_embeddings, reference_prototype,\n        threshold=0.0,  # Set to 0 to get all scores\n        use_prototype=False\n    )\n    \n    if result['page_scores']:\n        for page_score in result['page_scores']:\n            negative_scores.append(page_score['similarity'])\n\n# Analyze scores\npositive_scores = np.array(positive_scores)\nnegative_scores = np.array(negative_scores)\n\nprint(f\"\\nPositive scores - Mean: {positive_scores.mean():.3f}, Std: {positive_scores.std():.3f}\")\nprint(f\"Positive scores - Min: {positive_scores.min():.3f}, Max: {positive_scores.max():.3f}\")\nprint(f\"\\nNegative scores - Mean: {negative_scores.mean():.3f}, Std: {negative_scores.std():.3f}\")\nprint(f\"Negative scores - Min: {negative_scores.min():.3f}, Max: {negative_scores.max():.3f}\")\n\n# Plot score distributions\nplt.figure(figsize=(10, 6))\nplt.hist(positive_scores, bins=30, alpha=0.7, label='Form pages', color='green')\nplt.hist(negative_scores, bins=30, alpha=0.7, label='Non-form pages', color='red')\nplt.axvline(x=SIMILARITY_THRESHOLD, color='black', linestyle='--', \n            label=f'Threshold: {SIMILARITY_THRESHOLD}')\nplt.xlabel('Cosine Similarity Score')\nplt.ylabel('Frequency')\nplt.title('Distribution of Similarity Scores')\nplt.legend()\nplt.grid(True, alpha=0.3)\nplt.show()\n\n# Find optimal threshold\ngap_threshold = (positive_scores.min() + negative_scores.max()) / 2\npercentile_threshold = np.percentile(negative_scores, 99)  # 99th percentile of negatives\n\nprint(f\"\\nSuggested thresholds:\")\nprint(f\"Gap-based threshold: {gap_threshold:.3f}\")\nprint(f\"99th percentile threshold: {percentile_threshold:.3f}\")\n\n# Update threshold\nOPTIMAL_THRESHOLD = max(gap_threshold, percentile_threshold)\nprint(f\"\\nSelected optimal threshold: {OPTIMAL_THRESHOLD:.3f}\")"
  },
  {
   "cell_type": "markdown",
   "metadata": {},
   "source": "## 9. Batch Processing Function"
  },
  {
   "cell_type": "code",
   "execution_count": null,
   "metadata": {},
   "outputs": [],
   "source": "def process_document_folder(folder_path: Path,\n                          model,\n                          processor,\n                          model_type: str,\n                          reference_embeddings: np.ndarray,\n                          reference_prototype: np.ndarray,\n                          threshold: float,\n                          output_file: str = 'zero_shot_results.csv',\n                          max_files: Optional[int] = None,\n                          use_prototype: bool = True,\n                          use_parallel: bool = None,\n                          clobber: bool = True) -> pd.DataFrame:\n    \"\"\"Process all PDFs in a folder using zero-shot classification\n    \n    Args:\n        clobber: If False, skip files already in output_file. If True, reprocess all files.\n    \"\"\"\n    \n    if use_parallel is None:\n        use_parallel = USE_MULTIPROCESSING\n    \n    # Load existing results if clobber=False\n    already_processed = set()\n    existing_results = []\n    \n    if not clobber and Path(output_file).exists():\n        print(f\"Loading existing results from {output_file}...\")\n        existing_df = pd.read_csv(output_file)\n        already_processed = set(existing_df['filename'].unique())\n        existing_results = existing_df.to_dict('records')\n        print(f\"Found {len(already_processed)} already processed files\")\n    \n    results = existing_results.copy()\n    pdf_files = list(folder_path.glob('*.pdf'))\n    \n    # Filter out already processed files\n    if not clobber:\n        pdf_files = [f for f in pdf_files if f.name not in already_processed]\n        print(f\"Skipping {len(already_processed)} already processed files\")\n    \n    if max_files:\n        pdf_files = pdf_files[:max_files]\n    \n    print(f\"Processing {len(pdf_files)} PDF files...\")\n    \n    if len(pdf_files) == 0:\n        print(\"No new files to process.\")\n        return pd.DataFrame(existing_results)\n    \n    if use_parallel and len(pdf_files) > 10:\n        # Use parallel processing\n        print(f\"Using parallel processing with {N_WORKERS} workers...\")\n        \n        # Process in batches to avoid memory issues\n        batch_size = min(100 * N_WORKERS, len(pdf_files))\n        \n        for i in range(0, len(pdf_files), batch_size):\n            batch_files = pdf_files[i:i+batch_size]\n            print(f\"\\nProcessing batch {i//batch_size + 1}/{(len(pdf_files) + batch_size - 1)//batch_size}\")\n            \n            batch_results = classify_pdf_batch_parallel(\n                batch_files,\n                reference_embeddings,\n                reference_prototype,\n                model_type,\n                threshold=threshold,\n                use_prototype=use_prototype,\n                n_workers=N_WORKERS\n            )\n            \n            # Flatten results for CSV\n            for result in batch_results:\n                results.append({\n                    'filename': result['filename'],\n                    'contains_form': result['contains_form'],\n                    'form_pages': ','.join(map(str, result['form_pages'])),\n                    'num_form_pages': len(result['form_pages']),\n                    'total_pages': result.get('total_pages', 0),\n                    'max_similarity': result['max_similarity'],\n                    'error': result['error']\n                })\n    else:\n        # Use sequential processing\n        print(\"Using sequential processing...\")\n        \n        for pdf_path in tqdm(pdf_files):\n            result = classify_pdf_zero_shot(\n                pdf_path, model, processor, model_type,\n                reference_embeddings, reference_prototype,\n                threshold=threshold,\n                use_prototype=use_prototype\n            )\n            \n            # Flatten results for CSV\n            results.append({\n                'filename': result['filename'],\n                'contains_form': result['contains_form'],\n                'form_pages': ','.join(map(str, result['form_pages'])),\n                'num_form_pages': len(result['form_pages']),\n                'total_pages': result.get('total_pages', 0),\n                'max_similarity': result['max_similarity'],\n                'error': result['error']\n            })\n    \n    # Create DataFrame and save\n    df_results = pd.DataFrame(results)\n    df_results.to_csv(output_file, index=False)\n    \n    # Print summary\n    print(f\"\\nResults saved to {output_file}\")\n    print(f\"Total documents processed: {len(df_results)}\")\n    if not clobber and len(existing_results) > 0:\n        print(f\"  - Previously processed: {len(existing_results)}\")\n        print(f\"  - Newly processed: {len(results) - len(existing_results)}\")\n    print(f\"Documents with forms: {df_results['contains_form'].sum()}\")\n    print(f\"Documents without forms: {(~df_results['contains_form']).sum()}\")\n    print(f\"Processing errors: {df_results['error'].notna().sum()}\")\n    \n    return df_results"
  },
  {
   "cell_type": "markdown",
   "metadata": {},
   "source": "## 10. Test Classification"
  },
  {
   "cell_type": "code",
   "execution_count": null,
   "metadata": {},
   "outputs": [],
   "source": "# Test on a sample first\nprint(\"Testing on sample documents...\")\n\n# Demonstrate CLOBBER functionality\nTEST_OUTPUT = 'zero_shot_test_results.csv'\n\n# First run - process all files\nprint(\"\\n1. First run - processing all files with CLOBBER=True\")\ntest_results = process_document_folder(\n    NON_EXAMPLES_PATH,\n    model,\n    processor,\n    MODEL_TYPE,\n    reference_embeddings,\n    reference_prototype,\n    threshold=OPTIMAL_THRESHOLD,\n    output_file=TEST_OUTPUT,\n    max_files=50,\n    use_prototype=False,  # Use full reference set for better accuracy\n    clobber=True  # Process all files\n)\n\n# Display sample results\nprint(\"\\nSample results:\")\nprint(test_results.head(10))\n\n# Second run - demonstrate skipping already processed files\nprint(\"\\n2. Second run - demonstrating CLOBBER=False (will skip already processed files)\")\ntest_results_2 = process_document_folder(\n    NON_EXAMPLES_PATH,\n    model,\n    processor,\n    MODEL_TYPE,\n    reference_embeddings,\n    reference_prototype,\n    threshold=OPTIMAL_THRESHOLD,\n    output_file=TEST_OUTPUT,\n    max_files=50,\n    use_prototype=False,\n    clobber=False  # Skip already processed files\n)"
  },
  {
   "cell_type": "markdown",
   "metadata": {},
   "source": [
    "## 10. Threshold Tuning"
   ]
  },
  {
   "cell_type": "code",
   "execution_count": 21,
   "metadata": {},
   "outputs": [
    {
     "name": "stdout",
     "output_type": "stream",
     "text": [
      "Testing on known examples to tune threshold...\n",
      "\n",
      "Computing self-similarity for positive examples...\n",
      "\n",
      "Testing on non-examples...\n"
     ]
    },
    {
     "name": "stderr",
     "output_type": "stream",
     "text": [
      "Processing non-examples: 100%|█████████████████████████████████████████████████████████████████████████████████████| 20/20 [02:16<00:00,  6.83s/it]"
     ]
    },
    {
     "name": "stdout",
     "output_type": "stream",
     "text": [
      "\n",
      "Positive scores - Mean: 0.982, Std: 0.014\n",
      "Positive scores - Min: 0.953, Max: 1.000\n",
      "\n",
      "Negative scores - Mean: 0.649, Std: 0.058\n",
      "Negative scores - Min: 0.354, Max: 0.871\n"
     ]
    },
    {
     "name": "stderr",
     "output_type": "stream",
     "text": [
      "\n"
     ]
    }
   ],
   "source": [
    "# Test on known examples and non-examples to find optimal threshold\n",
    "print(\"Testing on known examples to tune threshold...\")\n",
    "\n",
    "positive_scores = []\n",
    "negative_scores = []\n",
    "\n",
    "# Test on subset of examples (already processed)\n",
    "print(\"\\nComputing self-similarity for positive examples...\")\n",
    "for i in range(min(50, len(reference_embeddings))):\n",
    "    # Leave-one-out similarity\n",
    "    embedding = reference_embeddings[i]\n",
    "    other_embeddings = np.delete(reference_embeddings, i, axis=0)\n",
    "    similarity = compute_similarity_to_references(embedding, other_embeddings, method='max')\n",
    "    positive_scores.append(similarity)\n",
    "\n",
    "# Test on non-examples\n",
    "print(\"\\nTesting on non-examples...\")\n",
    "non_example_files = list(NON_EXAMPLES_PATH.glob('*.pdf'))[:20]  # Test subset\n",
    "\n",
    "for pdf_path in tqdm(non_example_files, desc=\"Processing non-examples\"):\n",
    "    result = classify_pdf_zero_shot(\n",
    "        pdf_path, model, processor, MODEL_TYPE,\n",
    "        reference_embeddings, reference_prototype,\n",
    "        threshold=0.0,  # Set to 0 to get all scores\n",
    "        use_prototype=False\n",
    "    )\n",
    "    \n",
    "    if result['page_scores']:\n",
    "        for page_score in result['page_scores']:\n",
    "            negative_scores.append(page_score['similarity'])\n",
    "\n",
    "# Analyze scores\n",
    "positive_scores = np.array(positive_scores)\n",
    "negative_scores = np.array(negative_scores)\n",
    "\n",
    "print(f\"\\nPositive scores - Mean: {positive_scores.mean():.3f}, Std: {positive_scores.std():.3f}\")\n",
    "print(f\"Positive scores - Min: {positive_scores.min():.3f}, Max: {positive_scores.max():.3f}\")\n",
    "print(f\"\\nNegative scores - Mean: {negative_scores.mean():.3f}, Std: {negative_scores.std():.3f}\")\n",
    "print(f\"Negative scores - Min: {negative_scores.min():.3f}, Max: {negative_scores.max():.3f}\")"
   ]
  },
  {
   "cell_type": "code",
   "execution_count": 22,
   "metadata": {},
   "outputs": [
    {
     "data": {
      "image/png": "[encoded data removed]",
      "text/plain": [
       "<Figure size 1000x600 with 1 Axes>"
      ]
     },
     "metadata": {},
     "output_type": "display_data"
    },
    {
     "name": "stdout",
     "output_type": "stream",
     "text": [
      "\n",
      "Suggested thresholds:\n",
      "Gap-based threshold: 0.912\n",
      "99th percentile threshold: 0.805\n",
      "\n",
      "Selected optimal threshold: 0.912\n"
     ]
    }
   ],
   "source": [
    "# Plot score distributions\n",
    "plt.figure(figsize=(10, 6))\n",
    "plt.hist(positive_scores, bins=30, alpha=0.7, label='Form pages', color='green')\n",
    "plt.hist(negative_scores, bins=30, alpha=0.7, label='Non-form pages', color='red')\n",
    "plt.axvline(x=SIMILARITY_THRESHOLD, color='black', linestyle='--', \n",
    "            label=f'Threshold: {SIMILARITY_THRESHOLD}')\n",
    "plt.xlabel('Cosine Similarity Score')\n",
    "plt.ylabel('Frequency')\n",
    "plt.title('Distribution of Similarity Scores')\n",
    "plt.legend()\n",
    "plt.grid(True, alpha=0.3)\n",
    "plt.show()\n",
    "\n",
    "# Find optimal threshold\n",
    "gap_threshold = (positive_scores.min() + negative_scores.max()) / 2\n",
    "percentile_threshold = np.percentile(negative_scores, 99)  # 99th percentile of negatives\n",
    "\n",
    "print(f\"\\nSuggested thresholds:\")\n",
    "print(f\"Gap-based threshold: {gap_threshold:.3f}\")\n",
    "print(f\"99th percentile threshold: {percentile_threshold:.3f}\")\n",
    "\n",
    "# Update threshold\n",
    "OPTIMAL_THRESHOLD = max(gap_threshold, percentile_threshold)\n",
    "print(f\"\\nSelected optimal threshold: {OPTIMAL_THRESHOLD:.3f}\")"
   ]
  },
  {
   "cell_type": "markdown",
   "metadata": {},
   "source": [
    "## 11. Batch Processing Function"
   ]
  },
  {
   "cell_type": "code",
   "execution_count": null,
   "metadata": {},
   "outputs": [],
   "source": "## 11. Parallel Processing Functions\n\n# Thread-safe function for processing PDFs\ndef process_pdf_threaded(pdf_path: Path, model, processor, model_type: str) -> Dict:\n    \"\"\"Process a single PDF (thread-safe version)\"\"\"\n    results = {\n        'filename': pdf_path.name,\n        'path': str(pdf_path),\n        'embeddings': [],\n        'page_numbers': [],\n        'error': None\n    }\n    \n    try:\n        # Convert PDF to images using PyMuPDF\n        images = pdf_to_images(pdf_path, dpi=IMAGE_DPI)\n        if not images:\n            results['error'] = \"Failed to convert PDF\"\n            return results\n        \n        # Extract embeddings for each page\n        for page_num, image in enumerate(images, 1):\n            try:\n                embedding = extract_embedding_single(image, model, processor, model_type)\n                results['embeddings'].append(embedding)\n                results['page_numbers'].append(page_num)\n            except Exception as e:\n                print(f\"Error processing page {page_num} of {pdf_path.name}: {e}\")\n        \n        results['num_pages'] = len(images)\n        \n    except Exception as e:\n        results['error'] = str(e)\n        print(f\"Error processing {pdf_path.name}: {e}\")\n    \n    return results\n\ndef process_pdfs_parallel(pdf_files: List[Path], model_type: str, n_workers: int = None) -> List[Dict]:\n    \"\"\"Process multiple PDFs in parallel using ThreadPoolExecutor\"\"\"\n    if n_workers is None:\n        n_workers = N_WORKERS\n    \n    print(f\"\\nProcessing {len(pdf_files)} PDFs using {n_workers} workers...\")\n    start_time = time.time()\n    \n    results = []\n    with ThreadPoolExecutor(max_workers=n_workers) as executor:\n        # Submit all tasks\n        future_to_pdf = {\n            executor.submit(process_pdf_threaded, pdf_path, model, processor, model_type): pdf_path \n            for pdf_path in pdf_files\n        }\n        \n        # Process completed tasks with progress bar\n        for future in tqdm(as_completed(future_to_pdf), total=len(pdf_files), desc=\"Processing PDFs\"):\n            pdf_path = future_to_pdf[future]\n            try:\n                result = future.result()\n                results.append(result)\n            except Exception as e:\n                print(f\"Error processing {pdf_path}: {e}\")\n                results.append({\n                    'filename': pdf_path.name,\n                    'path': str(pdf_path),\n                    'embeddings': [],\n                    'page_numbers': [],\n                    'error': str(e)\n                })\n    \n    elapsed = time.time() - start_time\n    print(f\"Processed {len(pdf_files)} PDFs in {elapsed:.1f} seconds\")\n    print(f\"Average: {elapsed/len(pdf_files):.2f} seconds per PDF\")\n    \n    return results\n\ndef classify_pdf_batch_parallel(pdf_paths: List[Path],\n                               reference_embeddings: np.ndarray,\n                               reference_prototype: np.ndarray,\n                               model_type: str,\n                               threshold: float = SIMILARITY_THRESHOLD,\n                               use_prototype: bool = True,\n                               n_workers: int = None) -> List[Dict]:\n    \"\"\"Classify a batch of PDFs in parallel\"\"\"\n    \n    # First, extract embeddings in parallel\n    embedding_results = process_pdfs_parallel(pdf_paths, model_type, n_workers)\n    \n    # Then classify based on embeddings\n    classification_results = []\n    \n    for result in embedding_results:\n        if result['error']:\n            classification_results.append({\n                'filename': result['filename'],\n                'contains_form': False,\n                'form_pages': [],\n                'page_scores': [],\n                'max_similarity': 0.0,\n                'error': result['error']\n            })\n            continue\n        \n        # Classify each page\n        form_pages = []\n        page_scores = []\n        max_similarity = 0.0\n        \n        for embedding, page_num in zip(result['embeddings'], result['page_numbers']):\n            # Compute similarity\n            if use_prototype:\n                similarity = compute_similarity_to_prototype(embedding, reference_prototype)\n            else:\n                similarity = compute_similarity_to_references(embedding, reference_embeddings, method='max')\n            \n            page_scores.append({\n                'page': page_num,\n                'similarity': float(similarity)\n            })\n            \n            if similarity >= threshold:\n                form_pages.append(page_num)\n            \n            max_similarity = max(max_similarity, similarity)\n        \n        classification_results.append({\n            'filename': result['filename'],\n            'contains_form': len(form_pages) > 0,\n            'form_pages': form_pages,\n            'page_scores': page_scores,\n            'max_similarity': max_similarity,\n            'total_pages': result.get('num_pages', len(result['embeddings'])),\n            'error': None\n        })\n    \n    return classification_results\n\nprint(\"✓ Parallel processing functions defined (PyMuPDF backend)\")"
  },
  {
   "cell_type": "markdown",
   "metadata": {},
   "source": [
    "## 12. Test Classification"
   ]
  },
  {
   "cell_type": "code",
   "execution_count": 40,
   "metadata": {},
   "outputs": [
    {
     "name": "stdout",
     "output_type": "stream",
     "text": [
      "Testing on sample documents...\n",
      "Processing 50 PDF files...\n",
      "Using parallel processing with 8 workers...\n",
      "\n",
      "Processing batch 1/1\n",
      "\n",
      "Processing 50 PDFs using 8 workers...\n"
     ]
    },
    {
     "name": "stderr",
     "output_type": "stream",
     "text": [
      "Processing PDFs: 100%|█████████████████████████████████████████████████████████████████████████████████████████████| 50/50 [00:41<00:00,  1.19it/s]\n"
     ]
    },
    {
     "name": "stdout",
     "output_type": "stream",
     "text": [
      "Processed 50 PDFs in 42.0 seconds\n",
      "Average: 0.84 seconds per PDF\n",
      "\n",
      "Results saved to zero_shot_test_results.csv\n",
      "Total documents processed: 50\n",
      "Documents with forms: 0\n",
      "Documents without forms: 50\n",
      "Processing errors: 0\n",
      "\n",
      "Sample results:\n",
      "                            filename  contains_form form_pages  \\\n",
      "0         F1-8-FSSA-DMHA-564-003.pdf          False              \n",
      "1        F1-10-FSSA-DDRS-495-000.pdf          False              \n",
      "2  0000000000000000000062223-001.pdf          False              \n",
      "3                     104303-001.pdf          False              \n",
      "4          F1-9-DCS-43810SAS-001.pdf          False              \n",
      "5         F1-8-FSSA-DMHA-564-002.pdf          False              \n",
      "6                       1197-000.pdf          False              \n",
      "7                      67419-000.pdf          False              \n",
      "8                      25581-000.pdf          False              \n",
      "9            F1-9-DCS-UNION2-000.pdf          False              \n",
      "\n",
      "   num_form_pages  total_pages  max_similarity error  \n",
      "0               0            3        0.699039  None  \n",
      "1               0            3        0.723076  None  \n",
      "2               0            5        0.735326  None  \n",
      "3               0            3        0.657824  None  \n",
      "4               0            5        0.753644  None  \n",
      "5               0            5        0.734835  None  \n",
      "6               0           15        0.857992  None  \n",
      "7               0           26        0.836615  None  \n",
      "8               0           25        0.779591  None  \n",
      "9               0           22        0.718818  None  \n"
     ]
    }
   ],
   "source": [
    "# Test on a sample first\n",
    "print(\"Testing on sample documents...\")\n",
    "\n",
    "test_results = process_document_folder(\n",
    "    NON_EXAMPLES_PATH,\n",
    "    model,\n",
    "    processor,\n",
    "    MODEL_TYPE,\n",
    "    reference_embeddings,\n",
    "    reference_prototype,\n",
    "    threshold=OPTIMAL_THRESHOLD,\n",
    "    output_file='zero_shot_test_results.csv',\n",
    "    max_files=50,\n",
    "    use_prototype=False  # Use full reference set for better accuracy\n",
    ")\n",
    "\n",
    "# Display sample results\n",
    "print(\"\\nSample results:\")\n",
    "print(test_results.head(10))"
   ]
  },
  {
   "cell_type": "markdown",
   "metadata": {},
   "source": [
    "## 13. Performance Comparison: Sequential vs Parallel"
   ]
  },
  {
   "cell_type": "code",
   "execution_count": null,
   "metadata": {},
   "outputs": [],
   "source": [
    "# Compare performance: Sequential vs Parallel processing\n",
    "print(\"Performance Comparison: Sequential vs Parallel Processing\")\n",
    "print(\"=\" * 60)\n",
    "\n",
    "# Test on a small subset\n",
    "test_path = NON_EXAMPLES_PATH\n",
    "test_files = list(test_path.glob('*.pdf'))[:20]  # Test with 20 files\n",
    "\n",
    "if len(test_files) >= 10:\n",
    "    # Sequential processing\n",
    "    print(\"\\n1. Sequential Processing:\")\n",
    "    start_time = time.time()\n",
    "    seq_results = process_document_folder(\n",
    "        test_path,\n",
    "        model,\n",
    "        processor,\n",
    "        MODEL_TYPE,\n",
    "        reference_embeddings,\n",
    "        reference_prototype,\n",
    "        threshold=OPTIMAL_THRESHOLD,\n",
    "        output_file='sequential_test.csv',\n",
    "        max_files=20,\n",
    "        use_prototype=False,\n",
    "        use_parallel=False\n",
    "    )\n",
    "    seq_time = time.time() - start_time\n",
    "    print(f\"Sequential time: {seq_time:.1f} seconds\")\n",
    "    print(f\"Speed: {len(test_files)/seq_time:.1f} PDFs/second\")\n",
    "    \n",
    "    # Parallel processing\n",
    "    print(\"\\n2. Parallel Processing:\")\n",
    "    start_time = time.time()\n",
    "    par_results = process_document_folder(\n",
    "        test_path,\n",
    "        model,\n",
    "        processor,\n",
    "        MODEL_TYPE,\n",
    "        reference_embeddings,\n",
    "        reference_prototype,\n",
    "        threshold=OPTIMAL_THRESHOLD,\n",
    "        output_file='parallel_test.csv',\n",
    "        max_files=20,\n",
    "        use_prototype=False,\n",
    "        use_parallel=True\n",
    "    )\n",
    "    par_time = time.time() - start_time\n",
    "    print(f\"Parallel time: {par_time:.1f} seconds\")\n",
    "    print(f\"Speed: {len(test_files)/par_time:.1f} PDFs/second\")\n",
    "    \n",
    "    # Speedup\n",
    "    speedup = seq_time / par_time\n",
    "    print(f\"\\nSpeedup: {speedup:.1f}x faster with {N_WORKERS} workers\")\n",
    "    \n",
    "    # Efficiency\n",
    "    efficiency = speedup / N_WORKERS * 100\n",
    "    print(f\"Parallel efficiency: {efficiency:.0f}%\")\n",
    "    \n",
    "    # Estimate for full corpus\n",
    "    print(f\"\\nEstimated time for 190k documents:\")\n",
    "    print(f\"Sequential: {190000 * seq_time / len(test_files) / 3600:.1f} hours\")\n",
    "    print(f\"Parallel: {190000 * par_time / len(test_files) / 3600:.1f} hours\")\n",
    "else:\n",
    "    print(\"Not enough test files for comparison\")"
   ]
  },
  {
   "cell_type": "markdown",
   "metadata": {},
   "source": [
    "## 14. Process Full Corpus\n",
    "\n",
    "Example code for processing the full 190k corpus. Uncomment and modify the path as needed."
   ]
  },
  {
   "cell_type": "code",
   "execution_count": null,
   "metadata": {},
   "outputs": [],
   "source": "# Process the full 190k corpus (uncomment when ready)\nCORPUS_PATH = BASE_PATH / 'data' / 'raw' / '_contracts'  # Adjust path as needed\nOUTPUT_FILE = 'zero_shot_results_full_corpus.csv'\nCLOBBER = False  # Set to False to skip already processed files\n\n# Check if output file exists and show status\nif Path(OUTPUT_FILE).exists() and not CLOBBER:\n    existing_df = pd.read_csv(OUTPUT_FILE)\n    print(f\"Found existing results file: {OUTPUT_FILE}\")\n    print(f\"Already processed: {len(existing_df)} documents\")\n    print(f\"Documents with forms: {existing_df['contains_form'].sum()}\")\n    \n    # Show which files will be skipped\n    if CORPUS_PATH.exists():\n        all_pdfs = list(CORPUS_PATH.glob('*.pdf'))\n        already_done = set(existing_df['filename'].unique())\n        remaining = [f for f in all_pdfs if f.name not in already_done]\n        print(f\"\\nTotal PDFs in corpus: {len(all_pdfs)}\")\n        print(f\"Remaining to process: {len(remaining)}\")\n        \n        if len(remaining) == 0:\n            print(\"\\nAll files have been processed! Set CLOBBER=True to reprocess.\")\n        else:\n            print(f\"\\nWill process {len(remaining)} new files...\")\n\n# Uncomment the following section to process the full corpus:\n\"\"\"\nif CORPUS_PATH.exists():\n    print(f\"\\\\nProcessing corpus at: {CORPUS_PATH}\")\n    \n    full_results = process_document_folder(\n        CORPUS_PATH,\n        model,\n        processor,\n        MODEL_TYPE,\n        reference_embeddings,\n        reference_prototype,\n        threshold=OPTIMAL_THRESHOLD,\n        output_file=OUTPUT_FILE,\n        use_prototype=False,  # Use full reference set for best accuracy\n        use_parallel=True,    # Enable parallel processing\n        clobber=CLOBBER       # Use CLOBBER setting\n    )\n    \n    print(f\"\\\\nProcessing complete!\")\n    print(f\"Total documents with forms: {full_results['contains_form'].sum()}\")\n    print(f\"Total form pages found: {full_results['num_form_pages'].sum()}\")\n    \n    # Save a backup with timestamp if doing a full reprocess\n    if CLOBBER:\n        from datetime import datetime\n        backup_file = f\"{OUTPUT_FILE.replace('.csv', '')}_{datetime.now().strftime('%Y%m%d_%H%M%S')}.csv\"\n        full_results.to_csv(backup_file, index=False)\n        print(f\"\\\\nBackup saved to: {backup_file}\")\nelse:\n    print(f\"❌ Corpus path not found: {CORPUS_PATH}\")\n    print(\"Please update the CORPUS_PATH variable to point to your document collection\")\n\"\"\"\n\nprint(\"\\n✅ Notebook is ready!\")\nprint(\"🔧 To process the full corpus, uncomment the section above and run it\")\nprint(f\"📊 Current configuration: {MODEL_TYPE} model, threshold={OPTIMAL_THRESHOLD:.3f}\")"
  },
  {
   "cell_type": "markdown",
   "metadata": {},
   "source": [
    "## 15. Summary and Next Steps\n",
    "\n",
    "### Performance Summary:"
   ]
  },
  {
   "cell_type": "code",
   "execution_count": null,
   "metadata": {},
   "outputs": [],
   "source": [
    "# Performance Summary\n",
    "print(\"\\nPerformance Summary:\")\n",
    "print(f\"Model type: {MODEL_TYPE}\")\n",
    "print(f\"Reference examples: {len(reference_embeddings)}\")\n",
    "print(f\"Optimal threshold: {OPTIMAL_THRESHOLD:.3f}\")\n",
    "print(f\"\\nProcessing speed: ~{len(test_results) / 60:.1f} documents per minute (sequential)\")\n",
    "if 'speedup' in locals():\n",
    "    print(f\"Parallel speedup: {speedup:.1f}x with {N_WORKERS} workers\")\n",
    "\n",
    "# Estimate time for full corpus\n",
    "docs_per_minute = len(test_results) / 60  # Rough estimate\n",
    "total_minutes = 190000 / docs_per_minute\n",
    "print(f\"\\nEstimated time for 190k documents (sequential): {total_minutes/60:.1f} hours\")\n",
    "if 'speedup' in locals():\n",
    "    print(f\"Estimated time for 190k documents (parallel): {total_minutes/60/speedup:.1f} hours\")"
   ]
  },
  {
   "cell_type": "markdown",
   "metadata": {},
   "source": [
    "### Next Steps:\n",
    "\n",
    "1. **Production Deployment**:\n",
    "   - Use GPU for faster processing (10-50x speedup)\n",
    "   - Increase number of workers for CPU processing\n",
    "   - Process in larger batches\n",
    "\n",
    "2. **Optimization**:\n",
    "   - Try different models (DINOv2 might be faster)\n",
    "   - Reduce image resolution if accuracy permits\n",
    "   - Implement page-level caching\n",
    "\n",
    "3. **Accuracy Improvements**:\n",
    "   - Add more reference examples\n",
    "   - Fine-tune threshold using validation set\n",
    "   - Try ensemble of multiple models\n",
    "\n",
    "4. **When to Consider Training**:\n",
    "   - If zero-shot accuracy < 90%\n",
    "   - If you need to detect subtle variations\n",
    "   - If inference speed is critical"
   ]
  }
 ],
 "metadata": {
  "kernelspec": {
   "display_name": "Python 3 (ipykernel)",
   "language": "python",
   "name": "python3"
  },
  "language_info": {
   "codemirror_mode": {
    "name": "ipython",
    "version": 3
   },
   "file_extension": ".py",
   "mimetype": "text/x-python",
   "name": "python",
   "nbconvert_exporter": "python",
   "pygments_lexer": "ipython3",
   "version": "3.11.7"
  }
 },
 "nbformat": 4,
 "nbformat_minor": 4
}