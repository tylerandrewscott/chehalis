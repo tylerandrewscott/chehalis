{
 "cells": [
  {
   "cell_type": "code",
   "execution_count": 2,
   "id": "43afd7b7-c8d0-499a-99cb-a7b91c59935a",
   "metadata": {},
   "outputs": [],
   "source": [
    "import pandas as pd"
   ]
  },
  {
   "cell_type": "code",
   "execution_count": 4,
   "id": "66f1b54b-7a05-46b9-ba5f-25ce7f6624f9",
   "metadata": {},
   "outputs": [],
   "source": [
    "test = pd.read_csv('zero_shot_results_full_corpus.csv')"
   ]
  },
  {
   "cell_type": "code",
   "execution_count": 7,
   "id": "26c53bc8-1ed3-4e71-9542-a5fdd65916d7",
   "metadata": {},
   "outputs": [
    {
     "data": {
      "text/plain": [
       "'/home/tscott1/chehalis/code/preprocessing'"
      ]
     },
     "execution_count": 7,
     "metadata": {},
     "output_type": "execute_result"
    }
   ],
   "source": [
    "pwd"
   ]
  }
 ],
 "metadata": {
  "kernelspec": {
   "display_name": "Python [conda env:jupyterlab-4] *",
   "language": "python",
   "name": "conda-env-jupyterlab-4-py"
  },
  "language_info": {
   "codemirror_mode": {
    "name": "ipython",
    "version": 3
   },
   "file_extension": ".py",
   "mimetype": "text/x-python",
   "name": "python",
   "nbconvert_exporter": "python",
   "pygments_lexer": "ipython3",
   "version": "3.12.5"
  }
 },
 "nbformat": 4,
 "nbformat_minor": 5
}
