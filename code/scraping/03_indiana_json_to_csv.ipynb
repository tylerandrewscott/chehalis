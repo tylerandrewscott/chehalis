{
 "cells": [
  {
   "cell_type": "code",
   "execution_count": 1,
   "id": "4952fea7-62cd-4fb0-bd41-f069a708f6bc",
   "metadata": {},
   "outputs": [],
   "source": [
    "import pandas as pd\n",
    "js = pd.read_json('../../data/raw/indiana_contracts.json')\n",
    "js.to_csv('../../data/raw/indiana_contracts.csv')"
   ]
  },
  {
   "cell_type": "code",
   "execution_count": 2,
   "id": "6667541b-c399-4536-8c72-a0c8715720cd",
   "metadata": {},
   "outputs": [],
   "source": [
    "import pandas as pd\n",
    "js = pd.read_json('../../data/raw/indiana_prof_services_contracts.json')\n",
    "js.to_csv('../../data/raw/indiana_proj_services_contracts.json')"
   ]
  },
  {
   "cell_type": "code",
   "execution_count": 7,
   "id": "dde89519-940f-4ae3-ae47-ca6b93bdca02",
   "metadata": {},
   "outputs": [],
   "source": []
  }
 ],
 "metadata": {
  "kernelspec": {
   "display_name": "Python 3 (ipykernel)",
   "language": "python",
   "name": "python3"
  },
  "language_info": {
   "codemirror_mode": {
    "name": "ipython",
    "version": 3
   },
   "file_extension": ".py",
   "mimetype": "text/x-python",
   "name": "python",
   "nbconvert_exporter": "python",
   "pygments_lexer": "ipython3",
   "version": "3.11.7"
  }
 },
 "nbformat": 4,
 "nbformat_minor": 5
}
