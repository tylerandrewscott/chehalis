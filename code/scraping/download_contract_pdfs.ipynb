{
 "cells": [
  {
   "cell_type": "code",
   "execution_count": 13,
   "id": "d50bc5ec-91b3-442a-9b9b-72d2b9c087da",
   "metadata": {},
   "outputs": [],
   "source": [
    "import pandas as pd\n",
    "js = pd.read_json('../../data/raw/indiana_contracts.json')"
   ]
  },
  {
   "cell_type": "code",
   "execution_count": 14,
   "id": "f44ee2db-c14f-4585-8959-12f3313c66a0",
   "metadata": {},
   "outputs": [],
   "source": [
    "pdf_url_set = js.pdfUrl"
   ]
  },
  {
   "cell_type": "code",
   "execution_count": 15,
   "id": "fb5c9f34-9c4e-42a8-b83d-d07f898d461e",
   "metadata": {},
   "outputs": [],
   "source": [
    "import os\n",
    "#os.mkdir('../../data/raw/contracts')\n",
    "file_location = '../../data/raw/contracts/'"
   ]
  },
  {
   "cell_type": "code",
   "execution_count": null,
   "id": "8436157f-5a93-41b4-b696-f8c94c5f13c9",
   "metadata": {},
   "outputs": [
    {
     "name": "stdout",
     "output_type": "stream",
     "text": [
      "10778-002.pdf\n",
      "10195-005.pdf\n",
      "10202-003.pdf\n",
      "10204-007.pdf\n",
      "10259-002.pdf\n",
      "10259-003.pdf\n",
      "10266-000.pdf\n",
      "10266-002.pdf\n",
      "2595-000.pdf\n",
      "10221-002.pdf\n",
      "13354-000.pdf\n",
      "13354-001.pdf\n",
      "13354-002.pdf\n",
      "10222-001.pdf\n",
      "13271-000.pdf\n",
      "13271-001.pdf\n",
      "2330-000.pdf\n",
      "2165-000.pdf\n",
      "2320-000.pdf\n",
      "6833-000.pdf\n",
      "7160-001.pdf\n",
      "10231-003.pdf\n",
      "10534-000.pdf\n",
      "10094-000.pdf\n",
      "13166-000.pdf\n",
      "13166-001.pdf\n",
      "15425-000.pdf\n",
      "16764-000.pdf\n",
      "18162-000.pdf\n",
      "18878-000.pdf\n",
      "18883-000.pdf\n",
      "13271-002.pdf\n",
      "13271-003.pdf\n",
      "19988-000.pdf\n",
      "23538-001.pdf\n",
      "32161-000.pdf\n",
      "23538-000.pdf\n",
      "23637-000.pdf\n",
      "23637-002.pdf\n",
      "23648-001.pdf\n",
      "18883-001.pdf\n",
      "25979-000.pdf\n",
      "22999-000.pdf\n",
      "28157-000.pdf\n",
      "32012-000.pdf\n",
      "32012-003.pdf\n",
      "33323-000.pdf\n",
      "32135-000.pdf\n",
      "42734-000.pdf\n",
      "42734-001.pdf\n",
      "40226-000.pdf\n",
      "39208-003.pdf\n",
      "39208-004.pdf\n",
      "41686-000.pdf\n",
      "44064-000.pdf\n",
      "44064-001.pdf\n",
      "44141-000.pdf\n",
      "44141-001.pdf\n",
      "44150-000.pdf\n",
      "44150-001.pdf\n",
      "44180-000.pdf\n",
      "44180-001.pdf\n",
      "44180-002.pdf\n",
      "44180-003.pdf\n",
      "44187-000.pdf\n",
      "44187-001.pdf\n"
     ]
    }
   ],
   "source": [
    "import urllib.request\n",
    "for u in pdf_url_set:\n",
    "    url = u\n",
    "    filename = os.path.basename(u)\n",
    "    print(filename)\n",
    "    urllib.request.urlretrieve(url, file_location + filename)"
   ]
  }
 ],
 "metadata": {
  "kernelspec": {
   "display_name": "Python 3 (ipykernel)",
   "language": "python",
   "name": "python3"
  },
  "language_info": {
   "codemirror_mode": {
    "name": "ipython",
    "version": 3
   },
   "file_extension": ".py",
   "mimetype": "text/x-python",
   "name": "python",
   "nbconvert_exporter": "python",
   "pygments_lexer": "ipython3",
   "version": "3.11.4"
  }
 },
 "nbformat": 4,
 "nbformat_minor": 5
}
