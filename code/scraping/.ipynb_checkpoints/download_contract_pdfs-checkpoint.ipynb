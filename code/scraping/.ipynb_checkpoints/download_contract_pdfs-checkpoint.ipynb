{
 "cells": [
  {
   "cell_type": "code",
   "execution_count": null,
   "id": "d50bc5ec-91b3-442a-9b9b-72d2b9c087da",
   "metadata": {},
   "outputs": [],
   "source": [
    "import pandas as pd\n",
    "js = pd.read_json('../../data/raw/indiana_contracts.json')"
   ]
  },
  {
   "cell_type": "code",
   "execution_count": null,
   "id": "f44ee2db-c14f-4585-8959-12f3313c66a0",
   "metadata": {},
   "outputs": [],
   "source": [
    "pdf_url_set = js.pdfUrl"
   ]
  },
  {
   "cell_type": "code",
   "execution_count": null,
   "id": "fb5c9f34-9c4e-42a8-b83d-d07f898d461e",
   "metadata": {},
   "outputs": [],
   "source": [
    "import os\n",
    "#os.mkdir('../../data/raw/contracts')\n",
    "file_location = '../../data/raw/_contracts'\n"
   ]
  },
  {
   "cell_type": "code",
   "execution_count": null,
   "id": "dcce7c98-1a91-4bfe-8e28-bc0cc4a48501",
   "metadata": {},
   "outputs": [],
   "source": [
    "pd_url = pd.DataFrame(pdf_url_set)\n",
    "base_paths = [os.path.basename(p) for p in pdf_url_set]\n",
    "pd_url['basename'] = [os.path.basename(p) for p in pdf_url_set]"
   ]
  },
  {
   "cell_type": "code",
   "execution_count": null,
   "id": "2bd302d5-a31e-4518-854c-123dc2092091",
   "metadata": {},
   "outputs": [],
   "source": [
    "have_files = os.listdir(file_location)"
   ]
  },
  {
   "cell_type": "code",
   "execution_count": null,
   "id": "b72729f4-949a-40ee-b9d8-e014c6e55d7f",
   "metadata": {},
   "outputs": [],
   "source": [
    "need_pd = pd_url[pd_url['basename'].isin(have_files)==False]"
   ]
  },
  {
   "cell_type": "code",
   "execution_count": null,
   "id": "52cc7a23-de99-4fe4-b4c2-dc03f2d6a041",
   "metadata": {},
   "outputs": [],
   "source": [
    "need_pd"
   ]
  },
  {
   "cell_type": "code",
   "execution_count": null,
   "id": "8436157f-5a93-41b4-b696-f8c94c5f13c9",
   "metadata": {},
   "outputs": [],
   "source": [
    "import urllib.request\n",
    "for u in need_pd['pdfUrl']:\n",
    "    url = u\n",
    "    filename = os.path.basename(u)\n",
    "    print(filename)\n",
    "    try:\n",
    "        urllib.request.urlretrieve(url, '{}/{}'.format(file_location,filename))\n",
    "    except:\n",
    "        pass"
   ]
  }
 ],
 "metadata": {
  "kernelspec": {
   "display_name": "Python 3 (ipykernel)",
   "language": "python",
   "name": "python3"
  },
  "language_info": {
   "codemirror_mode": {
    "name": "ipython",
    "version": 3
   },
   "file_extension": ".py",
   "mimetype": "text/x-python",
   "name": "python",
   "nbconvert_exporter": "python",
   "pygments_lexer": "ipython3",
   "version": "3.12.4"
  }
 },
 "nbformat": 4,
 "nbformat_minor": 5
}
