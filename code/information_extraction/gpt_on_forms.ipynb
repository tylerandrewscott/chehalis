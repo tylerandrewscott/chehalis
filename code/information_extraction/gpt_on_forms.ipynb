{
 "cells": [
  {
   "cell_type": "code",
   "execution_count": 2,
   "id": "fca49287-40de-4527-9d05-dac0c3f6d7c9",
   "metadata": {},
   "outputs": [],
   "source": [
    "with open('/Users/admin-tascott/Documents/GitHub/openai_eis_key.txt', encoding=\"utf-8\") as f:\n",
    "    key = f.read()\n",
    "import os\n",
    "os.environ[\"OPENAI_API_KEY\"] = key\n",
    "#!pip install pypdf\n",
    "#!pip install faiss-cpu\n",
    "#!pip install langchain\n",
    "#### setup for query, feed in individual files\n",
    "#### note that future improvement would be to load docs as a library and query across library\n",
    "### presumably this would be much faster, for for now I was getting token warnings (to many)\n",
    "#### but single-file-at-a-time approach does work\n",
    "\n",
    "# if overwrite = T, then redo prior extractions\n",
    "overwrite = False\n",
    "import re\n",
    "import langchain.document_loaders\n",
    "import langchain_community.document_loaders\n",
    "#from langchain_community.document_loaders import WebBaseLoader\n",
    "from langchain_community.vectorstores import FAISS\n",
    "from langchain_openai.chat_models import ChatOpenAI\n",
    "from langchain_openai.embeddings import OpenAIEmbeddings\n",
    "from langchain_text_splitters import RecursiveCharacterTextSplitter\n",
    "import pandas as pd\n",
    "from io import StringIO\n",
    "import nltk\n",
    "\n",
    "### find the meeting files in these subdirectories\n",
    "import os, fnmatch\n",
    "file_list = []\n",
    "original_files = '../../data/raw/_firstjpeg/'\n",
    "files = fnmatch.filter(os.listdir(original_files), '*.jpeg')\n",
    "for f in files:\n",
    "    file_list.append(f)\n",
    "file_list.sort()\n",
    "import random\n",
    "#random.shuffle(file_list)\n",
    "savedir = '../../data/ocr_collected'\n",
    "if os.path.exists(savedir)==False:\n",
    "    os.mkdir(savedir)\n",
    "#!mkdir ../../data/intermediate_products\n",
    "tagged_pages = pd.read_csv('../../data/intermediate_products/zeroshot_form_contract.csv')\n",
    "data_form_files = tagged_pages[tagged_pages['prose in single column layout']<=0.5]\n",
    "contract_files = tagged_pages[tagged_pages['prose in single column layout']>0.5]\n",
    "\n",
    "from openai import OpenAI\n",
    "import base64\n",
    "client = OpenAI()\n",
    "\n",
    "# Function to encode the image\n",
    "def encode_image(image_path):\n",
    "  with open(image_path, \"rb\") as image_file:\n",
    "    return base64.b64encode(image_file.read()).decode('utf-8')\n",
    "# Path to your image\n",
    "image_loc = \"../../data/raw/_firstjpeg/\"\n",
    "df_files = [f for f in data_form_files['file']]\n",
    "loc = '../../data/intermediate_products/json_forms/'\n",
    "df_need = set([re.sub('jpeg','json',f) for f in df_files]).difference(set(os.listdir(loc)))\n",
    "headers = {\n",
    "    \"Content-Type\": \"application/json\",\n",
    "    \"Authorization\": f\"Bearer {key}\"\n",
    "}\n",
    "import requests\n",
    "import json\n",
    "prompt = \"\"\"This image is contract form.\n",
    "Provide a detailed breakdown of the form's information.\n",
    "For elements that are a set of checkboxes, return the name of the checked box as the value.\n",
    "Provide the results as a json file.\"\"\"\n"
   ]
  },
  {
   "cell_type": "code",
   "execution_count": 8,
   "id": "36660f7e-c084-4e06-aebc-dd717dfe2560",
   "metadata": {},
   "outputs": [
    {
     "data": {
      "text/plain": [
       "2237"
      ]
     },
     "execution_count": 8,
     "metadata": {},
     "output_type": "execute_result"
    }
   ],
   "source": []
  },
  {
   "cell_type": "code",
   "execution_count": null,
   "id": "328fda7e-8818-40f6-a5c3-35d69eea17b6",
   "metadata": {},
   "outputs": [],
   "source": [
    "\n",
    "for d in df_need:\n",
    "    # Getting the base64 string\n",
    "    jpeg_file = re.sub('json','jpeg',d)\n",
    "    image = '{}/{}'.format(image_loc,jpeg_file)\n",
    "    base64_image = encode_image(image)\n",
    "    payload = {\n",
    "      \"model\": \"gpt-4o\",\n",
    "      \"messages\": [\n",
    "        {\n",
    "          \"role\": \"user\",\n",
    "          \"content\": [\n",
    "            {\n",
    "              \"type\": \"text\",\n",
    "              \"text\": prompt\n",
    "            },\n",
    "            {\n",
    "              \"type\": \"image_url\",\n",
    "              \"image_url\": {\n",
    "                \"url\": f\"data:image/jpeg;base64,{base64_image}\",\n",
    "                \"detail\": \"high\"\n",
    "              }\n",
    "            }\n",
    "          ]\n",
    "        }\n",
    "      ],\n",
    "      \"max_tokens\": 1000\n",
    "    }\n",
    "    \n",
    "    response = requests.post(\"https://api.openai.com/v1/chat/completions\", headers=headers, json=payload)\n",
    "    jsonfile = d\n",
    "    with open('{}/{}'.format(loc,jsonfile), 'w', encoding='utf-8') as f:\n",
    "        json.dump(response.json(), f, ensure_ascii=False, indent=4)"
   ]
  },
  {
   "cell_type": "code",
   "execution_count": 5,
   "id": "c4714c2e-1423-46a2-ae9a-3351463889ec",
   "metadata": {},
   "outputs": [
    {
     "data": {
      "text/plain": [
       "set()"
      ]
     },
     "execution_count": 5,
     "metadata": {},
     "output_type": "execute_result"
    }
   ],
   "source": [
    "df_need"
   ]
  }
 ],
 "metadata": {
  "kernelspec": {
   "display_name": "Python 3 (ipykernel)",
   "language": "python",
   "name": "python3"
  },
  "language_info": {
   "codemirror_mode": {
    "name": "ipython",
    "version": 3
   },
   "file_extension": ".py",
   "mimetype": "text/x-python",
   "name": "python",
   "nbconvert_exporter": "python",
   "pygments_lexer": "ipython3",
   "version": "3.11.7"
  }
 },
 "nbformat": 4,
 "nbformat_minor": 5
}
