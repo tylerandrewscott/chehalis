{
 "cells": [
  {
   "cell_type": "code",
   "execution_count": 5,
   "id": "e8178717-d0ad-4a83-818a-a1e4b24dabb9",
   "metadata": {},
   "outputs": [],
   "source": [
    "from transformers import pipeline\n",
    "\n",
    "checkpoint = \"openai/clip-vit-large-patch14\"\n",
    "detector = pipeline(model=checkpoint, task=\"zero-shot-image-classification\")\n",
    "import os\n",
    "from PIL import Image\n",
    "import requests\n",
    "import pandas as pd\n",
    "\n",
    "# Path to your image\n",
    "image_loc = \"../../data/raw/_firstjpeg/\"\n",
    "image_files = os.listdir(image_loc)\n",
    "\n",
    "preds = pd.DataFrame()\n",
    "for i in image_files:\n",
    "    image = Image.open('{}/{}'.format(image_loc,i))\n",
    "    predictions = detector(image, candidate_labels=[\"multi-column data form with entry boxes\",\"prose in single column layout\"])\n",
    "    df = pd.DataFrame({'score':[l['score'] for l in predictions],'label':[l['label'] for l in predictions]})\n",
    "    df['file'] = i\n",
    "    dfp = df.pivot(index = 'file',values = 'score',columns = 'label')\n",
    "    preds = pd.concat([preds,dfp])\n",
    "    #pd.DataFrame({predictions[0]['label']:predictions[0]['score']},index = [i]) \n"
   ]
  },
  {
   "cell_type": "code",
   "execution_count": 8,
   "id": "fd5cdb00-b0e5-4176-805e-c8330b9993bd",
   "metadata": {},
   "outputs": [
    {
     "name": "stdout",
     "output_type": "stream",
     "text": [
      "mkdir: ../../data/intermediate_products: File exists\n"
     ]
    },
    {
     "name": "stderr",
     "output_type": "stream",
     "text": [
      "huggingface/tokenizers: The current process just got forked, after parallelism has already been used. Disabling parallelism to avoid deadlocks...\n",
      "To disable this warning, you can either:\n",
      "\t- Avoid using `tokenizers` before the fork if possible\n",
      "\t- Explicitly set the environment variable TOKENIZERS_PARALLELISM=(true | false)\n"
     ]
    }
   ],
   "source": [
    "!mkdir ../../data/intermediate_products\n",
    "preds.to_csv('../../data/intermediate_products/zeroshot_form_contract.csv')"
   ]
  }
 ],
 "metadata": {
  "kernelspec": {
   "display_name": "Python 3 (ipykernel)",
   "language": "python",
   "name": "python3"
  },
  "language_info": {
   "codemirror_mode": {
    "name": "ipython",
    "version": 3
   },
   "file_extension": ".py",
   "mimetype": "text/x-python",
   "name": "python",
   "nbconvert_exporter": "python",
   "pygments_lexer": "ipython3",
   "version": "3.12.4"
  }
 },
 "nbformat": 4,
 "nbformat_minor": 5
}
